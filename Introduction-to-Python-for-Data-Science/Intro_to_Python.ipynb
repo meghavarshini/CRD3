{
  "nbformat": 4,
  "nbformat_minor": 0,
  "metadata": {
    "colab": {
      "provenance": [],
      "include_colab_link": true
    },
    "kernelspec": {
      "name": "python3",
      "display_name": "Python 3"
    },
    "language_info": {
      "name": "python"
    }
  },
  "cells": [
    {
      "cell_type": "markdown",
      "metadata": {
        "id": "view-in-github",
        "colab_type": "text"
      },
      "source": [
        "<a href=\"https://colab.research.google.com/github/meghavarshini/CRD3/blob/master/Introduction-to-Python-for-Data-Science/Intro_to_Python.ipynb\" target=\"_parent\"><img src=\"https://colab.research.google.com/assets/colab-badge.svg\" alt=\"Open In Colab\"/></a>"
      ]
    },
    {
      "cell_type": "markdown",
      "source": [
        "# A very short introduction to Python"
      ],
      "metadata": {
        "id": "Jxy7ZP-2s9NC"
      }
    },
    {
      "cell_type": "markdown",
      "source": [
        "### Variable assignment\n",
        "\n",
        "#### Numbers"
      ],
      "metadata": {
        "id": "aiD_nfin-oe6"
      }
    },
    {
      "cell_type": "code",
      "source": [
        "x = 5          # Define x = 5 as an Integer.\n",
        "print(type(x)) # Prints type \"<class 'int'>\"\n",
        "print(x)       # Prints \"5\"\n",
        "print(x + 1)   # Addition; prints \"6\"\n",
        "print(x - 1)   # Subtraction; prints \"4\"\n",
        "print(x * 2)   # Multiplication; prints \"10\"\n",
        "print(x ** 2)  # Exponentiation; prints \"25\"\n",
        "print(x + 1 + 3 * x) # Prints \"21\". The multiplication operator has precedence over addition.\n",
        "print((x + 1) + (3 * x)) # Prints \"20\". The preferred way of writing an operation."
      ],
      "metadata": {
        "colab": {
          "base_uri": "https://localhost:8080/"
        },
        "id": "KjZcpZKOB7N-",
        "outputId": "b1f7c6ca-2c4b-45bb-f5e8-b176c2c8a809"
      },
      "execution_count": 79,
      "outputs": [
        {
          "output_type": "stream",
          "name": "stdout",
          "text": [
            "<class 'int'>\n",
            "5\n",
            "6\n",
            "4\n",
            "10\n",
            "25\n",
            "21\n",
            "21\n"
          ]
        }
      ]
    },
    {
      "cell_type": "code",
      "source": [
        "x = 7\n",
        "x = x + 1 # replaces the value in variable x with x+1\n",
        "x += 1    # Equivalent to \"x = x + 1\"\n",
        "print(x)\n",
        "x = x * 2 # replaces the value in variable x with x * 2\n",
        "x *= 2    # Equivalent to \"x = x * 2\"\n",
        "print(x)"
      ],
      "metadata": {
        "colab": {
          "base_uri": "https://localhost:8080/"
        },
        "id": "Iv7xpEG1CgwE",
        "outputId": "5e7dd1d6-a1e6-4948-a095-ae7ae1842c64"
      },
      "execution_count": 80,
      "outputs": [
        {
          "output_type": "stream",
          "name": "stdout",
          "text": [
            "9\n",
            "36\n"
          ]
        }
      ]
    },
    {
      "cell_type": "code",
      "source": [
        "y = 5/2   # Automatically defines y = 2.5 as a floating or real number.\n",
        "print(type(y)) # Prints \"<class 'float'>\"\n",
        "print(y, y + 1, y * 2, y ** 2) # Prints \"2.5 3.5 5.0 6.25\""
      ],
      "metadata": {
        "colab": {
          "base_uri": "https://localhost:8080/"
        },
        "id": "laUDS98xCTFi",
        "outputId": "2b6b7aa1-8773-447d-ca23-0786dc74708d"
      },
      "execution_count": 81,
      "outputs": [
        {
          "output_type": "stream",
          "name": "stdout",
          "text": [
            "<class 'float'>\n",
            "2.5 3.5 5.0 6.25\n"
          ]
        }
      ]
    },
    {
      "cell_type": "markdown",
      "source": [
        "##### Boolean"
      ],
      "metadata": {
        "id": "uqbdWLvY_uZM"
      }
    },
    {
      "cell_type": "code",
      "source": [
        "t = True\n",
        "f = False\n",
        "print(type(t)) # Prints \"<class 'bool'>\"\n",
        "print(t and f) # Logical AND; prints \"False\"\n",
        "print(t or f)  # Logical OR; prints \"True\"\n",
        "print(not t)   # Logical NOT; prints \"False\"\n",
        "print(t != f)  # Logical XOR; prints \"True\""
      ],
      "metadata": {
        "colab": {
          "base_uri": "https://localhost:8080/"
        },
        "id": "o2lnUloz_gHd",
        "outputId": "c8944b6f-6531-4470-9ac3-84269d191fda"
      },
      "execution_count": 82,
      "outputs": [
        {
          "output_type": "stream",
          "name": "stdout",
          "text": [
            "<class 'bool'>\n",
            "False\n",
            "True\n",
            "False\n",
            "True\n"
          ]
        }
      ]
    },
    {
      "cell_type": "markdown",
      "source": [
        "#### Strings"
      ],
      "metadata": {
        "id": "xZzW8xdv_zFP"
      }
    },
    {
      "cell_type": "code",
      "source": [
        "hello = 'Hello'    # String literals can use single quotes\n",
        "world = \"World!\"    # or double quotes; it does not matter.\n",
        "print(hello)       # Prints \"Hello\"\n",
        "print(len(hello))  # String length; prints \"5\"\n",
        "hw = hello + ' ' + world  # String concatenation\n",
        "print(hw)  # prints \"Hello World!\"\n",
        "print(f'{hello} to the entire {world}')  # prints the values stored in hello and world\n",
        "                                         # separated by \" to the entire \""
      ],
      "metadata": {
        "colab": {
          "base_uri": "https://localhost:8080/"
        },
        "id": "J9cI2hcw_1p5",
        "outputId": "3373e51f-24ed-411c-cf3a-3aaedfebf2cd"
      },
      "execution_count": 83,
      "outputs": [
        {
          "output_type": "stream",
          "name": "stdout",
          "text": [
            "Hello\n",
            "5\n",
            "Hello World!\n",
            "Hello to the entire World!\n"
          ]
        }
      ]
    },
    {
      "cell_type": "markdown",
      "source": [
        "#### Basic Arithmetic in Python\n",
        "\n",
        "Integer operators: `+, -, \\*, /, //, %`\n",
        "\n",
        "Floating numbers operators: `+, -, \\*, /, \\*\\*`\n",
        "\n",
        "Boolean Expressions: `True, False`\n",
        "\n",
        "Equality (`==`): `5 == 5` returns `True`\n",
        "\n",
        "Not equal (`!=`): `5 != 5` returns `False`\n",
        "\n",
        "Greater than (`>`): `5 > 4` returns `True`\n",
        "\n",
        "Greater or equal than (`>=`): `5 >= 5` returns `True`\n",
        "\n",
        "Same applies to Less than (`<`) and Less or equal than (`<=`)\n",
        "\n",
        "Boolean operators `and`, `or`, and `not`: `True and False`, `True or False`, `not True`\n"
      ],
      "metadata": {
        "id": "ifDR4ctYta0X"
      }
    },
    {
      "cell_type": "code",
      "source": [
        "x = 2\n",
        "y = 7\n",
        "print(f'Testing if x equals y: {x == y}')\n",
        "print(\"Testing if x does not equal y: \", x != y)\n",
        "print(f'is x greater than y? {y>y}')"
      ],
      "metadata": {
        "colab": {
          "base_uri": "https://localhost:8080/"
        },
        "id": "tmgByvvIBrNu",
        "outputId": "53950772-2aac-4a6d-99f0-5198cfbca42a"
      },
      "execution_count": 84,
      "outputs": [
        {
          "output_type": "stream",
          "name": "stdout",
          "text": [
            "Testing if x equals y: False\n",
            "Testing if x does not equal y:  True\n",
            "is x greater than y? False\n"
          ]
        }
      ]
    },
    {
      "cell_type": "markdown",
      "source": [
        "### Data Types\n",
        "\n",
        "#### Lists"
      ],
      "metadata": {
        "id": "qElTG6Y1EL5C"
      }
    },
    {
      "cell_type": "code",
      "source": [
        "# Lists\n",
        "list1 = [1, 2, 3.0, 4]\n",
        "list2 = [1., 2, '3', 4]\n",
        "print(list1)\n",
        "print(list2)\n",
        "# Appends list2 at the end of list1. It cannot not be a sum.\n",
        "print(list1+list2)"
      ],
      "metadata": {
        "colab": {
          "base_uri": "https://localhost:8080/"
        },
        "id": "kQsMP6eZwzt7",
        "outputId": "8a1895e4-ebdb-4235-98e2-211c6ebf745f"
      },
      "execution_count": 86,
      "outputs": [
        {
          "output_type": "stream",
          "name": "stdout",
          "text": [
            "[1, 2, 3.0, 4]\n",
            "[1.0, 2, '3', 4]\n",
            "[1, 2, 3.0, 4, 1.0, 2, '3', 4]\n"
          ]
        }
      ]
    },
    {
      "cell_type": "markdown",
      "source": [
        "#### Tuples"
      ],
      "metadata": {
        "id": "BvSe3o1lESId"
      }
    },
    {
      "cell_type": "code",
      "source": [
        "d = {(x, x + 1): x for x in range(10)}  # Create a dictionary with tuple keys\n",
        "t = (5, 6)        # Create a tuple\n",
        "print('variable t is: ', type(t))    # Prints \"<class 'tuple'>\"\n",
        "print(d[t])       # Prints \"5\"\n",
        "print(d[(1, 2)])  # Prints \"1\"\n",
        "t2 = 5,           # tuple created due to trailing comma"
      ],
      "metadata": {
        "colab": {
          "base_uri": "https://localhost:8080/"
        },
        "id": "7XpN55jAEXKm",
        "outputId": "7066ca87-6c4f-44d7-9cc8-21bc8e3deb5f"
      },
      "execution_count": 87,
      "outputs": [
        {
          "output_type": "stream",
          "name": "stdout",
          "text": [
            "variable t is:  <class 'tuple'>\n",
            "5\n",
            "1\n"
          ]
        }
      ]
    },
    {
      "cell_type": "markdown",
      "source": [
        "#### Sets"
      ],
      "metadata": {
        "id": "sjOEiM3pG3fj"
      }
    },
    {
      "cell_type": "code",
      "source": [
        "list1 = [1, 2, 3.0, 4, 2, 1, 0]\n",
        "set1 = {0, 1, 2, 3.0, 4}\n",
        "set2 = set(list1)\n",
        "print(f'set1: {set1}')\n",
        "print(f'set2: {set2}')"
      ],
      "metadata": {
        "colab": {
          "base_uri": "https://localhost:8080/"
        },
        "id": "YTwLJBF2HRty",
        "outputId": "7c84f494-f721-4149-83ca-ef0ed4ea788b"
      },
      "execution_count": 28,
      "outputs": [
        {
          "output_type": "stream",
          "name": "stdout",
          "text": [
            "set1: {0, 1, 2, 3.0, 4}\n",
            "set2: {0, 1, 2, 3.0, 4}\n"
          ]
        }
      ]
    },
    {
      "cell_type": "markdown",
      "source": [
        "#### Dictionaries"
      ],
      "metadata": {
        "id": "fecjrdPxH5yw"
      }
    },
    {
      "cell_type": "code",
      "source": [
        "d = {'cat': 0, 'dog': 1}      # Create a new dictionary with some data\n",
        "print(d['cat'])               # Get an entry from a dictionary; prints \"cute\"\n",
        "print('cat' in d)             # Check if a dictionary has a given key; prints \"True\"\n",
        "d['fish'] = 2                 # Set an entry in a dictionary\n",
        "print('value of fish: ',\\\n",
        " {d['fish']})                 # Prints \"2\"\n",
        "print('value of monkey: ',\\\n",
        "      d.get('monkey', 'N/A')) # Get an element with a default; prints \"N/A\"\n",
        "print('value of fish: ',\\\n",
        "      d.get('fish', 'N/A'))   # Get an element with a default; print actual value if present\n",
        "del d['fish']                 # Remove an element from a dictionary\n",
        "print('value of fish: ',\\\n",
        "      d.get('fish', 'N/A'))   # \"fish\" is no longer a key; prints \"N/A\"\n",
        "d.keys()                      # creates an object in datatype dict_keys with all keys in the dictionary\n",
        "print(f'list of keys: \\\n",
        "    {list(d.keys())}')        #creates a list of keys in the dictionary\n",
        "print(f'list of values\\\n",
        "    {list(d.values())}')      #creates a list of values in the dictionary"
      ],
      "metadata": {
        "colab": {
          "base_uri": "https://localhost:8080/"
        },
        "id": "xO2xHoA-H6CG",
        "outputId": "ebabda59-dca5-4b86-9022-b7afca82fe71"
      },
      "execution_count": 43,
      "outputs": [
        {
          "output_type": "stream",
          "name": "stdout",
          "text": [
            "0\n",
            "True\n",
            "value of fish:  {2}\n",
            "value of monkey:  N/A\n",
            "value of fish:  2\n",
            "value of fish:  N/A\n",
            "list of keys:     ['cat', 'dog']\n",
            "list of values    [0, 1]\n"
          ]
        }
      ]
    },
    {
      "cell_type": "markdown",
      "source": [
        "### Conditionals\n"
      ],
      "metadata": {
        "id": "MjgqSwI9vP2N"
      }
    },
    {
      "cell_type": "code",
      "source": [
        "# Conditional: if, elif, else\n",
        "x = 3\n",
        "y = 2\n",
        "z = 1\n",
        "\n",
        "if x == y:\n",
        "     print(\"Hello\")\n",
        "elif x == z:\n",
        "     print(\"Good bye\")\n",
        "else:\n",
        "     print(\"Try again\")\n",
        "\n",
        "# Remember: SHIFT+ENTER to run a cell of select the \"play button\"."
      ],
      "metadata": {
        "colab": {
          "base_uri": "https://localhost:8080/"
        },
        "id": "2LXupvwXtZ5f",
        "outputId": "fefd2cf7-6609-4272-c03a-7c4becb211f5"
      },
      "execution_count": 88,
      "outputs": [
        {
          "output_type": "stream",
          "name": "stdout",
          "text": [
            "Try again\n"
          ]
        }
      ]
    },
    {
      "cell_type": "markdown",
      "source": [
        "### Loops"
      ],
      "metadata": {
        "id": "zzVa0TP3LS3u"
      }
    },
    {
      "cell_type": "code",
      "source": [
        "# Loop: for\n",
        "\n",
        "print(\"loop 1\")\n",
        "for i in range(5): # default - starts with 0, increases by 1\n",
        "     print(i)\n",
        "\n",
        "print(\"\\nloop 2\")\n",
        "for i in range(10, 2, -2): # arguments: start, end, step size\n",
        "     print(i)\n",
        "\n",
        "# Loop: while\n",
        "\n",
        "i = 1\n",
        "while i < 10:\n",
        "     print('Next i is = ',i)\n",
        "     i = i+1 # Next i value is defined\n"
      ],
      "metadata": {
        "colab": {
          "base_uri": "https://localhost:8080/"
        },
        "id": "ioGYjVmdv6Vv",
        "outputId": "fca92f7e-f914-4bc2-d28a-148c7854033f"
      },
      "execution_count": 89,
      "outputs": [
        {
          "output_type": "stream",
          "name": "stdout",
          "text": [
            "loop 1\n",
            "0\n",
            "1\n",
            "2\n",
            "3\n",
            "4\n",
            "\n",
            "loop 2\n",
            "10\n",
            "8\n",
            "6\n",
            "4\n",
            "Next i is =  1\n",
            "Next i is =  2\n",
            "Next i is =  3\n",
            "Next i is =  4\n",
            "Next i is =  5\n",
            "Next i is =  6\n",
            "Next i is =  7\n",
            "Next i is =  8\n",
            "Next i is =  9\n"
          ]
        }
      ]
    },
    {
      "cell_type": "markdown",
      "source": [
        "### Numpy"
      ],
      "metadata": {
        "id": "ifUQVz9TLV62"
      }
    },
    {
      "cell_type": "code",
      "source": [
        "# import the numpy library:\n",
        "import numpy as np"
      ],
      "metadata": {
        "id": "6bmBm4B4Lcdv"
      },
      "execution_count": 90,
      "outputs": []
    },
    {
      "cell_type": "code",
      "source": [
        "# Arrays (n-dimensional vectors)\n",
        "\n",
        "# One dimensional arrays examples\n",
        "s1 = np.array([1,2,3,4])      # Array of integer numbers\n",
        "s2 = np.array([1,2,3,4.0])    # Will be converted to floating numbers array, since 4.0 is a float (real)\n",
        "s3 = np.array([1,2,3,'4'])    # Will be converted to a character array, since '4' is a character\n",
        "s4 = np.arange(0,5,0.5)       # An array of 0.5 spaced points between 0 and 5, but not including end point 5\n",
        "s5 = np.linspace(0,5,20)      # Inserts 20 between 0 and 5, includes both end points.\n",
        "\n",
        "print('s1 is ', s1)\n",
        "print('s2 is ', s2)\n",
        "print('s3 is ', s3)\n",
        "print('s4 is ', s4)"
      ],
      "metadata": {
        "colab": {
          "base_uri": "https://localhost:8080/"
        },
        "id": "ApSYGo0W3_UF",
        "outputId": "f769c71b-126e-4c33-fe19-e5b76d4f30fc"
      },
      "execution_count": 91,
      "outputs": [
        {
          "output_type": "stream",
          "name": "stdout",
          "text": [
            "s1 is  [1 2 3 4]\n",
            "s2 is  [1. 2. 3. 4.]\n",
            "s3 is  ['1' '2' '3' '4']\n",
            "s4 is  [0.  0.5 1.  1.5 2.  2.5 3.  3.5 4.  4.5]\n"
          ]
        }
      ]
    },
    {
      "cell_type": "code",
      "source": [
        "# Adding 2 numeric array makes sense. Since s2 is a float array, the sum s1 + s2 is a float\n",
        "# or we can scale numeric arrays by multiplying or dividing them by a factor.\n",
        "print('s1 + s2 = ', s1 + s2)\n",
        "print('5 * s2 = ', 5*s2)"
      ],
      "metadata": {
        "colab": {
          "base_uri": "https://localhost:8080/"
        },
        "id": "8vwLsmBELbpo",
        "outputId": "d2cfb31a-7746-4abb-8b53-a1eb954d2ae6"
      },
      "execution_count": 92,
      "outputs": [
        {
          "output_type": "stream",
          "name": "stdout",
          "text": [
            "s1 + s2 =  [2. 4. 6. 8.]\n",
            "5 * s2 =  [ 5. 10. 15. 20.]\n"
          ]
        }
      ]
    },
    {
      "cell_type": "code",
      "source": [
        "# How to access the elements of an array\n",
        "print('s1 = ', s1)\n",
        "print('Third element of s1, s1[2] = ', s1[2])                           # Obtain the 3rd element of s1... Python starts counting from 0\n",
        "print('All elements from the second to the fourth s1[1:3] = ', s1[1:3]) # Obtain the second upto before the fourth elements"
      ],
      "metadata": {
        "colab": {
          "base_uri": "https://localhost:8080/"
        },
        "id": "N5YDg9BY6DGq",
        "outputId": "3c123e9d-3885-4514-e5f7-dec4b3be82b9"
      },
      "execution_count": 93,
      "outputs": [
        {
          "output_type": "stream",
          "name": "stdout",
          "text": [
            "s1 =  [1 2 3 4]\n",
            "Third element of s1, s1[2] =  3\n",
            "All elements from the second to the fourth s1[1:3] =  [2 3]\n"
          ]
        }
      ]
    },
    {
      "cell_type": "code",
      "source": [
        "# Two and three dimensional arrays\n",
        "x2 = np.array([[0, 1], [2, 3]])\n",
        "y3 = np.array([[4, 5, 6], [7, 8, 9], [10, 11, 12]])\n",
        "\n",
        "print(' x2 = \\n', x2, '\\n y3 = \\n', y3)"
      ],
      "metadata": {
        "colab": {
          "base_uri": "https://localhost:8080/"
        },
        "id": "Z6nw_mU9MPlc",
        "outputId": "420d0302-663f-411a-b89c-d66dd0ecbcf9"
      },
      "execution_count": 95,
      "outputs": [
        {
          "output_type": "stream",
          "name": "stdout",
          "text": [
            " x2 = \n",
            " [[0 1]\n",
            " [2 3]] \n",
            " y3 = \n",
            " [[ 4  5  6]\n",
            " [ 7  8  9]\n",
            " [10 11 12]]\n"
          ]
        }
      ]
    },
    {
      "cell_type": "code",
      "source": [
        "# Selecting a row or column of an array\n",
        "# Remember, Python starts counting from 0.\n",
        "print('Second column of x2 x2[:,1]\\n', x2[:,1]) #prints the second column of x2')\n",
        "print('Second row of x2: \\n', x2[1,:])  # Selects the second row of x2, (here ':'  means 'all columns')\n",
        "print('First column of y3: \\n', y3[:,0]) # Selects the first column of y3 (here ':' means 'all rows')\n",
        "print('Last element of second row of y3: \\n', y3[1,2]) # Selects a specific element on a two dimensional array."
      ],
      "metadata": {
        "colab": {
          "base_uri": "https://localhost:8080/"
        },
        "id": "Ggbiuxj46kn1",
        "outputId": "1ee582ca-c32b-4498-e336-2d924022521c"
      },
      "execution_count": 96,
      "outputs": [
        {
          "output_type": "stream",
          "name": "stdout",
          "text": [
            "Second column of x2 x2[:,1]\n",
            " [1 3]\n",
            "Second row of x2: \n",
            " [2 3]\n",
            "First column of y3: \n",
            " [ 4  7 10]\n",
            "Last element of second row of y3: \n",
            " 9\n"
          ]
        }
      ]
    },
    {
      "cell_type": "code",
      "source": [
        "# Slicing can also be used for arrays similarly as it was used for lists.\n",
        "\n",
        "# A 2d array with shape (3, 4):\n",
        "a = np.array([[1,2,3,4], [5,6,7,8], [9,10,11,12]])\n",
        "print('original array: \\n', a)\n",
        "# Use slicing to pull out the subarray consisting of the first 2 rows\n",
        "# and columns 1 and 2; b is the following array of shape (2, 2):\n",
        "b = a[:2, 1:3]\n",
        "print('sliced array b: \\n', b)"
      ],
      "metadata": {
        "colab": {
          "base_uri": "https://localhost:8080/"
        },
        "id": "KxxzH5SEN9Qd",
        "outputId": "5c754123-4181-4786-bd4a-069067551b4e"
      },
      "execution_count": 97,
      "outputs": [
        {
          "output_type": "stream",
          "name": "stdout",
          "text": [
            "original array: \n",
            " [[ 1  2  3  4]\n",
            " [ 5  6  7  8]\n",
            " [ 9 10 11 12]]\n",
            "sliced array b: \n",
            " [[2 3]\n",
            " [6 7]]\n"
          ]
        }
      ]
    },
    {
      "cell_type": "code",
      "source": [
        "# Some basic array operations (Only if elements are numbers)\n",
        "import numpy as np\n",
        "\n",
        "# Two and three dimensional arrays\n",
        "x = np.array([[1, 2], [3, 4]])\n",
        "y = np.array([[5, 6], [7, 8]])\n",
        "c = 2\n",
        "\n",
        "# Print specified values\n",
        "print('x = ', x)\n",
        "print('y = ', y)\n",
        "print('c =', c)\n",
        "\n",
        "\n"
      ],
      "metadata": {
        "colab": {
          "base_uri": "https://localhost:8080/"
        },
        "id": "21wU8OeN6nW9",
        "outputId": "4f17ea79-4a71-421b-b635-5405d92523b8"
      },
      "execution_count": 98,
      "outputs": [
        {
          "output_type": "stream",
          "name": "stdout",
          "text": [
            "x =  [[1 2]\n",
            " [3 4]]\n",
            "y =  [[5 6]\n",
            " [7 8]]\n",
            "c = 2\n"
          ]
        }
      ]
    },
    {
      "cell_type": "code",
      "source": [
        "print('Sum x+y = \\n', x+y)                                                 # sum\n",
        "print(' Sum of x + c = \\n', x+c)                                           # sum a constant c\n",
        "print('Division of x/y = \\n', x/y)                                         # division\n",
        "print(' Multiply c*x = \\n', c*x)                                           # multiply by a constant c\n",
        "print('Square of x =', x**2)                                            # Square of a number\n",
        "print('Array multiplication x @ y = ', x@y)                             # Array multiplication - is a standard matrix multiplication\n",
        "print('Square root of x =', np.sqrt(x))                                 # Computes the square root of all array elements\n",
        "print('Exponential of array x = ', np.exp(x))                           # Computes the expo0nential of the array\n",
        "print('Log of x = ', np.log(x))                                         # Computes the natural logarithm of the array\n",
        "print('Sum of elements of x = ', np.sum(x))                             # Computes the sum of the elements of the array\n",
        "print('Computes the arithmetic mean of elements of x = ', np.mean(x))   # Computes the arithmetic mean of the array"
      ],
      "metadata": {
        "colab": {
          "base_uri": "https://localhost:8080/"
        },
        "id": "2pDBYGUY85eM",
        "outputId": "88ec562f-905a-48f0-d1b5-f5fb20b27373"
      },
      "execution_count": 100,
      "outputs": [
        {
          "output_type": "stream",
          "name": "stdout",
          "text": [
            "Sum x+y = \n",
            " [[ 6  8]\n",
            " [10 12]]\n",
            " Sum of x + c = \n",
            " [[3 4]\n",
            " [5 6]]\n",
            "Division of x/y = \n",
            " [[0.2        0.33333333]\n",
            " [0.42857143 0.5       ]]\n",
            " Multiply c*x = \n",
            " [[2 4]\n",
            " [6 8]]\n",
            "Square of x = [[ 1  4]\n",
            " [ 9 16]]\n",
            "Array multiplication x @ y =  [[19 22]\n",
            " [43 50]]\n",
            "Square root of x = [[1.         1.41421356]\n",
            " [1.73205081 2.        ]]\n",
            "Exponential of array x =  [[ 2.71828183  7.3890561 ]\n",
            " [20.08553692 54.59815003]]\n",
            "Log of x =  [[0.         0.69314718]\n",
            " [1.09861229 1.38629436]]\n",
            "Sum of elements of x =  10\n",
            "Computes the arithmetic mean of elements of x =  2.5\n"
          ]
        }
      ]
    },
    {
      "cell_type": "markdown",
      "source": [
        "### Test your skills\n",
        "\n",
        "Create a variable called 'num' and assign it the value 12. Print the value of this new variable. Next, print its data type."
      ],
      "metadata": {
        "id": "G2xKpZvMB979"
      }
    },
    {
      "cell_type": "code",
      "source": [
        "num = <something>\n",
        "print(<something>)\n",
        "print('type: ', type(<something>))"
      ],
      "metadata": {
        "id": "Sl5TlLOQPWeO"
      },
      "execution_count": null,
      "outputs": []
    },
    {
      "cell_type": "markdown",
      "source": [
        "Create 3 string variables with the words \"meow\", \"bark\" and \"chirp. Concatenate these three strings and print:"
      ],
      "metadata": {
        "id": "ZBcmJSr8PV2w"
      }
    },
    {
      "cell_type": "code",
      "source": [
        "x = \"\"\n",
        "y = \"\"\n",
        "z = \"\"\n",
        "concat = <something>\n",
        "print(concat)"
      ],
      "metadata": {
        "id": "EYVufPudPp58"
      },
      "execution_count": null,
      "outputs": []
    },
    {
      "cell_type": "markdown",
      "source": [
        "Create a list using the three string variables above, in the same order. Call it \"animal_sounds\". Print the third element of this new list."
      ],
      "metadata": {
        "id": "qrzU3DSCP07e"
      }
    },
    {
      "cell_type": "code",
      "source": [
        "animal_sounds = something\n",
        "print(something)"
      ],
      "metadata": {
        "id": "oc8-87twQD2D"
      },
      "execution_count": null,
      "outputs": []
    },
    {
      "cell_type": "markdown",
      "source": [
        "Create a dictionary with three keys, \"cat, \"dog, and \"bird\". Assign them values using the three string variables, one variable per key."
      ],
      "metadata": {
        "id": "X7NYaj7KO77s"
      }
    },
    {
      "cell_type": "code",
      "source": [
        "animals = {\"cat: something, ...\"}"
      ],
      "metadata": {
        "id": "0VMWM9uEO97a"
      },
      "execution_count": null,
      "outputs": []
    },
    {
      "cell_type": "markdown",
      "source": [
        "For the array provided below, multiply each element by 20, and subtract the resultant product by 2"
      ],
      "metadata": {
        "id": "rg8_G4GDRGVm"
      }
    },
    {
      "cell_type": "code",
      "source": [
        "arr = np.array([[1,2,3],[4,5,6]])\n",
        "arr_multiply = ...\n",
        "arr_subtract = ...\n",
        "print(arr_subtract)"
      ],
      "metadata": {
        "colab": {
          "base_uri": "https://localhost:8080/"
        },
        "id": "LksjWobLQ_se",
        "outputId": "58e2a26d-db86-4b32-9451-c46796621ca1"
      },
      "execution_count": 78,
      "outputs": [
        {
          "output_type": "stream",
          "name": "stdout",
          "text": [
            "[[ 18  38  58]\n",
            " [ 78  98 118]]\n"
          ]
        }
      ]
    }
  ]
}